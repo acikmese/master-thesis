{
 "cells": [
  {
   "cell_type": "code",
   "execution_count": 1,
   "metadata": {
    "ExecuteTime": {
     "end_time": "2019-03-12T18:06:11.861742Z",
     "start_time": "2019-03-12T18:06:11.313578Z"
    }
   },
   "outputs": [],
   "source": [
    "import pandas as pd\n",
    "import numpy as np\n",
    "import seaborn as sns\n",
    "import os\n",
    "import scipy.stats as stats\n",
    "import missingno as msno"
   ]
  },
  {
   "cell_type": "code",
   "execution_count": 2,
   "metadata": {
    "ExecuteTime": {
     "end_time": "2019-03-12T18:06:12.218604Z",
     "start_time": "2019-03-12T18:06:12.213088Z"
    }
   },
   "outputs": [],
   "source": [
    "def show_full_data(data, row_size=None, column_size=None, col_width=-1):\n",
    "    \"\"\"Shows all rows and columns instead of showing only some part and hiding other parts for large data.\n",
    "    \"\"\"\n",
    "    with pd.option_context('display.max_rows', row_size, 'display.max_columns', column_size, 'display.max_colwidth', col_width):\n",
    "        display(data)"
   ]
  },
  {
   "cell_type": "code",
   "execution_count": 3,
   "metadata": {
    "ExecuteTime": {
     "end_time": "2019-03-12T18:06:14.386003Z",
     "start_time": "2019-03-12T18:06:14.382375Z"
    }
   },
   "outputs": [],
   "source": [
    "# Dataset directory\n",
    "dir_loc = '../../student-life-study-data/dataset/'"
   ]
  },
  {
   "cell_type": "code",
   "execution_count": 4,
   "metadata": {
    "ExecuteTime": {
     "end_time": "2019-03-12T18:06:17.792339Z",
     "start_time": "2019-03-12T18:06:17.786091Z"
    }
   },
   "outputs": [],
   "source": [
    "# Collecting all student codes from activity folder (which represents all students)\n",
    "user_codes = []\n",
    "for x in sorted(os.listdir(dir_loc + 'sensing/activity/')):\n",
    "    # Chooses the string before \".\" and after \"_\"\n",
    "    user_codes.append(x.split('.')[0].split('_')[1])"
   ]
  },
  {
   "cell_type": "markdown",
   "metadata": {},
   "source": [
    "# Sensing"
   ]
  },
  {
   "cell_type": "code",
   "execution_count": 5,
   "metadata": {
    "ExecuteTime": {
     "end_time": "2019-03-12T18:11:26.362312Z",
     "start_time": "2019-03-12T18:11:26.332717Z"
    }
   },
   "outputs": [],
   "source": [
    "def get_activity(user):\n",
    "    activity = pd.read_csv(dir_loc + 'sensing/activity/activity_' + user + '.csv')\n",
    "    activity.columns = ['timestamp', 'activity_inference']\n",
    "    # make timestamp unique and take the mode for different values of activity inference\n",
    "    activity = activity.groupby(\"timestamp\")['activity_inference'].apply(lambda x: x.mode()[0]).reset_index()\n",
    "    activity.timestamp = pd.to_datetime(activity.timestamp, unit='s')\n",
    "    activity = activity.set_index('timestamp')\n",
    "    activity = activity.asfreq('s', method='bfill')\n",
    "    return activity\n",
    "\n",
    "def get_audio(user):\n",
    "    audio = pd.read_csv(dir_loc + 'sensing/audio/audio_' + user + '.csv')\n",
    "    audio.columns = ['timestamp', 'audio_inference']\n",
    "    # make timestamp unique and take the mode for different values of audio inference\n",
    "    audio = audio.groupby(\"timestamp\")['audio_inference'].apply(lambda x: x.mode()[0]).reset_index()\n",
    "    audio.timestamp = pd.to_datetime(audio.timestamp, unit='s')\n",
    "    audio = audio.set_index('timestamp')\n",
    "    audio = audio.asfreq('s', method='bfill')\n",
    "    return audio\n",
    "\n",
    "def get_conversation(user):\n",
    "    conversation = pd.read_csv(dir_loc + 'sensing/conversation/conversation_' + user + '.csv')\n",
    "    conversation.columns = ['start_timestamp', 'end_timestamp']\n",
    "    conversation.start_timestamp = pd.to_datetime(conversation.start_timestamp, unit='s')\n",
    "    conversation.end_timestamp = pd.to_datetime(conversation.end_timestamp, unit='s')\n",
    "    return conversation\n",
    "\n",
    "# def get_gps(user):\n",
    "#     gps = pd.read_csv(dir_loc + 'sensing/gps/gps_' + user + '.csv', index_col=False)\n",
    "#     gps.time = pd.to_datetime(gps.time, unit='s')\n",
    "#     return gps\n",
    "\n",
    "def get_bluetooth(user):\n",
    "    bluetooth = pd.read_csv(dir_loc + 'sensing/bluetooth/bt_' + user + '.csv', index_col=False)\n",
    "    bluetooth.time = pd.to_datetime(bluetooth.time, unit='s')\n",
    "    return bluetooth\n",
    "    \n",
    "def get_wifi(user):\n",
    "    wifi = pd.read_csv(dir_loc + 'sensing/wifi/wifi_' + user + '.csv', index_col=False)\n",
    "    wifi.time = pd.to_datetime(wifi.time, unit='s')\n",
    "    return wifi\n",
    "\n",
    "def get_wifi_loc(user):\n",
    "    wifi_loc = pd.read_csv(dir_loc + 'sensing/wifi_location/wifi_location_' + user + '.csv', index_col=False)\n",
    "    wifi_loc.time = pd.to_datetime(wifi_loc.time, unit='s')\n",
    "    return wifi_loc\n",
    "\n",
    "def get_dark(user):\n",
    "    dark = pd.read_csv(dir_loc + 'sensing/dark/dark_' + user + '.csv', index_col=False)\n",
    "    dark.start = pd.to_datetime(dark.start, unit='s')\n",
    "    dark.end = pd.to_datetime(dark.end, unit='s')\n",
    "    return dark\n",
    "\n",
    "def get_phone_charge(user):\n",
    "    phonecharge = pd.read_csv(dir_loc + 'sensing/phonecharge/phonecharge_' + user + '.csv', index_col=False)\n",
    "    phonecharge.start = pd.to_datetime(phonecharge.start, unit='s')\n",
    "    phonecharge.end = pd.to_datetime(phonecharge.end, unit='s')\n",
    "    return phonecharge\n",
    "\n",
    "def get_phone_lock(user):\n",
    "    phonelock = pd.read_csv(dir_loc + 'sensing/phonelock/phonelock_' + user + '.csv', index_col=False)\n",
    "    phonelock.start = pd.to_datetime(phonelock.start, unit='s')\n",
    "    phonelock.end = pd.to_datetime(phonelock.end, unit='s')\n",
    "    return phonelock"
   ]
  },
  {
   "cell_type": "code",
   "execution_count": 6,
   "metadata": {
    "ExecuteTime": {
     "end_time": "2019-03-12T18:11:36.783249Z",
     "start_time": "2019-03-12T18:11:36.779257Z"
    }
   },
   "outputs": [],
   "source": [
    "u = 'u05'"
   ]
  },
  {
   "cell_type": "code",
   "execution_count": 7,
   "metadata": {
    "ExecuteTime": {
     "end_time": "2019-03-12T18:21:09.430723Z",
     "start_time": "2019-03-12T18:11:40.831837Z"
    }
   },
   "outputs": [],
   "source": [
    "activity = get_activity(u)\n",
    "audio = get_audio(u)\n",
    "conversation = get_conversation(u)\n",
    "# gps = get_gps(u)\n",
    "bluetooth = get_bluetooth(u)\n",
    "wifi = get_wifi(u)\n",
    "wifi_loc = get_wifi_loc(u)\n",
    "dark = get_dark(u)\n",
    "phone_charge = get_phone_charge(u)\n",
    "phone_lock = get_phone_lock(u)"
   ]
  },
  {
   "cell_type": "code",
   "execution_count": 8,
   "metadata": {
    "ExecuteTime": {
     "end_time": "2019-03-12T18:23:03.005940Z",
     "start_time": "2019-03-12T18:23:02.584464Z"
    }
   },
   "outputs": [],
   "source": [
    "# activity - audio merge\n",
    "df = pd.merge(activity, audio, left_index=True, right_index=True, how='outer')\n",
    "df = df.reset_index()"
   ]
  },
  {
   "cell_type": "code",
   "execution_count": 9,
   "metadata": {
    "ExecuteTime": {
     "end_time": "2019-03-12T18:25:31.688605Z",
     "start_time": "2019-03-12T18:23:09.677332Z"
    }
   },
   "outputs": [],
   "source": [
    "# add conversation\n",
    "df['conversation'] = np.nan\n",
    "for i in range(conversation.shape[0]):\n",
    "    start = conversation.iloc[i, 0]\n",
    "    end = conversation.iloc[i, 1]\n",
    "    df.loc[(df['timestamp'] >= start) & (df['timestamp'] <= end), 'conversation'] = 1"
   ]
  },
  {
   "cell_type": "code",
   "execution_count": 10,
   "metadata": {
    "ExecuteTime": {
     "end_time": "2019-03-12T18:25:31.850060Z",
     "start_time": "2019-03-12T18:25:31.847636Z"
    }
   },
   "outputs": [],
   "source": [
    "# # add gps\n",
    "# gps.columns = ['gps_' + i for i in gps.columns]\n",
    "# df = df.reset_index()\n",
    "# df = pd.merge(df, gps, left_on='timestamp', right_on='gps_time', how='outer')\n",
    "# df.drop(columns=['gps_time'], inplace=True)"
   ]
  },
  {
   "cell_type": "code",
   "execution_count": 11,
   "metadata": {
    "ExecuteTime": {
     "end_time": "2019-03-12T18:26:29.537308Z",
     "start_time": "2019-03-12T18:25:32.013678Z"
    }
   },
   "outputs": [],
   "source": [
    "# add bluetooth\n",
    "bluetooth_new = pd.DataFrame()\n",
    "for time in bluetooth.time.unique():\n",
    "    data = {'timestamp': time}\n",
    "    item = bluetooth[bluetooth.time == time]\n",
    "    data['total_devices_around'] = item.shape[0]\n",
    "    data['total_nearer'] = item[item.level >= -70].shape[0]\n",
    "    data['total_near'] = item[(item.level >= -80) & (item.level < -70)].shape[0]\n",
    "    data['total_far'] = item[(item.level >= -90) & (item.level < -80)].shape[0]\n",
    "    data['total_farther'] = item[(item.level >= -100) & (item.level < -90)].shape[0]\n",
    "    data['level_avg'] = round(item.level.mean())\n",
    "    data['level_std'] = item.level.std()\n",
    "    bluetooth_new = bluetooth_new.append(data, ignore_index=True)\n",
    "\n",
    "bluetooth_new.columns = ['bt_' + i for i in bluetooth_new.columns]\n",
    "df = pd.merge(df, bluetooth_new, left_on='timestamp', right_on='bt_timestamp', how='outer')\n",
    "df.drop(columns=['bt_timestamp'], inplace=True)"
   ]
  },
  {
   "cell_type": "code",
   "execution_count": 12,
   "metadata": {
    "ExecuteTime": {
     "end_time": "2019-03-12T18:30:01.710966Z",
     "start_time": "2019-03-12T18:26:29.664688Z"
    }
   },
   "outputs": [],
   "source": [
    "# add wifi\n",
    "wifi_new = pd.DataFrame()\n",
    "for time in wifi.time.unique():\n",
    "    data = {'timestamp': time}\n",
    "    item = wifi[wifi.time == time]\n",
    "    data['total_devices_around'] = item.shape[0]\n",
    "    data['total_nearer'] = item[item.level >= -60].shape[0]\n",
    "    data['total_near'] = item[(item.level >= -80) & (item.level < -60)].shape[0]\n",
    "    data['total_far'] = item[(item.level >= -100) & (item.level < -80)].shape[0]\n",
    "    data['level_avg'] = round(item.level.mean())\n",
    "    data['level_std'] = item.level.std()\n",
    "    wifi_new = wifi_new.append(data, ignore_index=True)\n",
    "    \n",
    "wifi_new.columns = ['wifi_' + i for i in wifi_new.columns]\n",
    "df = pd.merge(df, wifi_new, left_on='timestamp', right_on='wifi_timestamp', how='left')\n",
    "df.drop(columns=['wifi_timestamp'], inplace=True)"
   ]
  },
  {
   "cell_type": "code",
   "execution_count": 13,
   "metadata": {
    "ExecuteTime": {
     "end_time": "2019-03-12T18:30:17.994396Z",
     "start_time": "2019-03-12T18:30:01.862980Z"
    }
   },
   "outputs": [],
   "source": [
    "# add dark\n",
    "df['phone_in_dark'] = np.nan\n",
    "for i in range(dark.shape[0]):\n",
    "    start = dark.iloc[i, 0]\n",
    "    end = dark.iloc[i, 1]\n",
    "    df.loc[(df['timestamp'] >= start) & (df['timestamp'] <= end), 'phone_in_dark'] = 1"
   ]
  },
  {
   "cell_type": "code",
   "execution_count": 14,
   "metadata": {
    "ExecuteTime": {
     "end_time": "2019-03-12T18:30:25.931416Z",
     "start_time": "2019-03-12T18:30:18.290770Z"
    }
   },
   "outputs": [],
   "source": [
    "# phone charge\n",
    "df['phone_charging'] = np.nan\n",
    "for i in range(phone_charge.shape[0]):\n",
    "    start = phone_charge.iloc[i, 0]\n",
    "    end = phone_charge.iloc[i, 1]\n",
    "    df.loc[(df['timestamp'] >= start) & (df['timestamp'] <= end), 'phone_charging'] = 1"
   ]
  },
  {
   "cell_type": "code",
   "execution_count": 15,
   "metadata": {
    "ExecuteTime": {
     "end_time": "2019-03-12T18:30:43.553486Z",
     "start_time": "2019-03-12T18:30:26.182567Z"
    }
   },
   "outputs": [],
   "source": [
    "# phone locked\n",
    "df['phone_locked'] = np.nan\n",
    "for i in range(phone_lock.shape[0]):\n",
    "    start = phone_lock.iloc[i, 0]\n",
    "    end = phone_lock.iloc[i, 1]\n",
    "    df.loc[(df['timestamp'] >= start) & (df['timestamp'] <= end), 'phone_locked'] = 1"
   ]
  },
  {
   "cell_type": "code",
   "execution_count": 16,
   "metadata": {
    "ExecuteTime": {
     "end_time": "2019-03-12T18:30:43.800796Z",
     "start_time": "2019-03-12T18:30:43.774617Z"
    }
   },
   "outputs": [
    {
     "data": {
      "text/html": [
       "<div>\n",
       "<style scoped>\n",
       "    .dataframe tbody tr th:only-of-type {\n",
       "        vertical-align: middle;\n",
       "    }\n",
       "\n",
       "    .dataframe tbody tr th {\n",
       "        vertical-align: top;\n",
       "    }\n",
       "\n",
       "    .dataframe thead th {\n",
       "        text-align: right;\n",
       "    }\n",
       "</style>\n",
       "<table border=\"1\" class=\"dataframe\">\n",
       "  <thead>\n",
       "    <tr style=\"text-align: right;\">\n",
       "      <th></th>\n",
       "      <th>timestamp</th>\n",
       "      <th>activity_inference</th>\n",
       "      <th>audio_inference</th>\n",
       "      <th>conversation</th>\n",
       "      <th>bt_level_avg</th>\n",
       "      <th>bt_level_std</th>\n",
       "      <th>bt_total_devices_around</th>\n",
       "      <th>bt_total_far</th>\n",
       "      <th>bt_total_farther</th>\n",
       "      <th>bt_total_near</th>\n",
       "      <th>bt_total_nearer</th>\n",
       "      <th>wifi_level_avg</th>\n",
       "      <th>wifi_level_std</th>\n",
       "      <th>wifi_total_devices_around</th>\n",
       "      <th>wifi_total_far</th>\n",
       "      <th>wifi_total_near</th>\n",
       "      <th>wifi_total_nearer</th>\n",
       "      <th>phone_in_dark</th>\n",
       "      <th>phone_charging</th>\n",
       "      <th>phone_locked</th>\n",
       "    </tr>\n",
       "  </thead>\n",
       "  <tbody>\n",
       "    <tr>\n",
       "      <th>0</th>\n",
       "      <td>2013-03-27 04:00:00</td>\n",
       "      <td>NaN</td>\n",
       "      <td>0.0</td>\n",
       "      <td>NaN</td>\n",
       "      <td>NaN</td>\n",
       "      <td>NaN</td>\n",
       "      <td>NaN</td>\n",
       "      <td>NaN</td>\n",
       "      <td>NaN</td>\n",
       "      <td>NaN</td>\n",
       "      <td>NaN</td>\n",
       "      <td>NaN</td>\n",
       "      <td>NaN</td>\n",
       "      <td>NaN</td>\n",
       "      <td>NaN</td>\n",
       "      <td>NaN</td>\n",
       "      <td>NaN</td>\n",
       "      <td>NaN</td>\n",
       "      <td>NaN</td>\n",
       "      <td>NaN</td>\n",
       "    </tr>\n",
       "    <tr>\n",
       "      <th>1</th>\n",
       "      <td>2013-03-27 04:00:01</td>\n",
       "      <td>NaN</td>\n",
       "      <td>0.0</td>\n",
       "      <td>NaN</td>\n",
       "      <td>NaN</td>\n",
       "      <td>NaN</td>\n",
       "      <td>NaN</td>\n",
       "      <td>NaN</td>\n",
       "      <td>NaN</td>\n",
       "      <td>NaN</td>\n",
       "      <td>NaN</td>\n",
       "      <td>NaN</td>\n",
       "      <td>NaN</td>\n",
       "      <td>NaN</td>\n",
       "      <td>NaN</td>\n",
       "      <td>NaN</td>\n",
       "      <td>NaN</td>\n",
       "      <td>NaN</td>\n",
       "      <td>NaN</td>\n",
       "      <td>NaN</td>\n",
       "    </tr>\n",
       "    <tr>\n",
       "      <th>2</th>\n",
       "      <td>2013-03-27 04:00:02</td>\n",
       "      <td>NaN</td>\n",
       "      <td>0.0</td>\n",
       "      <td>NaN</td>\n",
       "      <td>NaN</td>\n",
       "      <td>NaN</td>\n",
       "      <td>NaN</td>\n",
       "      <td>NaN</td>\n",
       "      <td>NaN</td>\n",
       "      <td>NaN</td>\n",
       "      <td>NaN</td>\n",
       "      <td>NaN</td>\n",
       "      <td>NaN</td>\n",
       "      <td>NaN</td>\n",
       "      <td>NaN</td>\n",
       "      <td>NaN</td>\n",
       "      <td>NaN</td>\n",
       "      <td>NaN</td>\n",
       "      <td>NaN</td>\n",
       "      <td>NaN</td>\n",
       "    </tr>\n",
       "    <tr>\n",
       "      <th>3</th>\n",
       "      <td>2013-03-27 04:00:03</td>\n",
       "      <td>NaN</td>\n",
       "      <td>0.0</td>\n",
       "      <td>NaN</td>\n",
       "      <td>NaN</td>\n",
       "      <td>NaN</td>\n",
       "      <td>NaN</td>\n",
       "      <td>NaN</td>\n",
       "      <td>NaN</td>\n",
       "      <td>NaN</td>\n",
       "      <td>NaN</td>\n",
       "      <td>NaN</td>\n",
       "      <td>NaN</td>\n",
       "      <td>NaN</td>\n",
       "      <td>NaN</td>\n",
       "      <td>NaN</td>\n",
       "      <td>NaN</td>\n",
       "      <td>NaN</td>\n",
       "      <td>NaN</td>\n",
       "      <td>NaN</td>\n",
       "    </tr>\n",
       "    <tr>\n",
       "      <th>4</th>\n",
       "      <td>2013-03-27 04:00:04</td>\n",
       "      <td>NaN</td>\n",
       "      <td>0.0</td>\n",
       "      <td>NaN</td>\n",
       "      <td>NaN</td>\n",
       "      <td>NaN</td>\n",
       "      <td>NaN</td>\n",
       "      <td>NaN</td>\n",
       "      <td>NaN</td>\n",
       "      <td>NaN</td>\n",
       "      <td>NaN</td>\n",
       "      <td>NaN</td>\n",
       "      <td>NaN</td>\n",
       "      <td>NaN</td>\n",
       "      <td>NaN</td>\n",
       "      <td>NaN</td>\n",
       "      <td>NaN</td>\n",
       "      <td>NaN</td>\n",
       "      <td>NaN</td>\n",
       "      <td>NaN</td>\n",
       "    </tr>\n",
       "  </tbody>\n",
       "</table>\n",
       "</div>"
      ],
      "text/plain": [
       "            timestamp  activity_inference  audio_inference  conversation  \\\n",
       "0 2013-03-27 04:00:00 NaN                  0.0             NaN             \n",
       "1 2013-03-27 04:00:01 NaN                  0.0             NaN             \n",
       "2 2013-03-27 04:00:02 NaN                  0.0             NaN             \n",
       "3 2013-03-27 04:00:03 NaN                  0.0             NaN             \n",
       "4 2013-03-27 04:00:04 NaN                  0.0             NaN             \n",
       "\n",
       "   bt_level_avg  bt_level_std  bt_total_devices_around  bt_total_far  \\\n",
       "0 NaN           NaN           NaN                      NaN             \n",
       "1 NaN           NaN           NaN                      NaN             \n",
       "2 NaN           NaN           NaN                      NaN             \n",
       "3 NaN           NaN           NaN                      NaN             \n",
       "4 NaN           NaN           NaN                      NaN             \n",
       "\n",
       "   bt_total_farther  bt_total_near  bt_total_nearer  wifi_level_avg  \\\n",
       "0 NaN               NaN            NaN              NaN               \n",
       "1 NaN               NaN            NaN              NaN               \n",
       "2 NaN               NaN            NaN              NaN               \n",
       "3 NaN               NaN            NaN              NaN               \n",
       "4 NaN               NaN            NaN              NaN               \n",
       "\n",
       "   wifi_level_std  wifi_total_devices_around  wifi_total_far  wifi_total_near  \\\n",
       "0 NaN             NaN                        NaN             NaN                \n",
       "1 NaN             NaN                        NaN             NaN                \n",
       "2 NaN             NaN                        NaN             NaN                \n",
       "3 NaN             NaN                        NaN             NaN                \n",
       "4 NaN             NaN                        NaN             NaN                \n",
       "\n",
       "   wifi_total_nearer  phone_in_dark  phone_charging  phone_locked  \n",
       "0 NaN                NaN            NaN             NaN            \n",
       "1 NaN                NaN            NaN             NaN            \n",
       "2 NaN                NaN            NaN             NaN            \n",
       "3 NaN                NaN            NaN             NaN            \n",
       "4 NaN                NaN            NaN             NaN            "
      ]
     },
     "metadata": {},
     "output_type": "display_data"
    }
   ],
   "source": [
    "show_full_data(df.head(5))"
   ]
  },
  {
   "cell_type": "code",
   "execution_count": 17,
   "metadata": {
    "ExecuteTime": {
     "end_time": "2019-03-12T18:36:26.386388Z",
     "start_time": "2019-03-12T18:36:23.629420Z"
    }
   },
   "outputs": [
    {
     "data": {
      "text/plain": [
       "<matplotlib.axes._subplots.AxesSubplot at 0x7f0b959b1208>"
      ]
     },
     "execution_count": 17,
     "metadata": {},
     "output_type": "execute_result"
    },
    {
     "data": {
      "image/png": "[encoded data removed]",
      "text/plain": [
       "<Figure size 1728x720 with 3 Axes>"
      ]
     },
     "metadata": {
      "needs_background": "light"
     },
     "output_type": "display_data"
    }
   ],
   "source": [
    "msno.bar(df)"
   ]
  },
  {
   "cell_type": "markdown",
   "metadata": {},
   "source": [
    "# EMA"
   ]
  },
  {
   "cell_type": "code",
   "execution_count": 19,
   "metadata": {
    "ExecuteTime": {
     "end_time": "2019-03-12T18:41:50.288722Z",
     "start_time": "2019-03-12T18:41:50.282584Z"
    }
   },
   "outputs": [],
   "source": [
    "with open(dir_loc + 'EMA/EMA_definition.json') as f:\n",
    "    definitions = json.load(f)"
   ]
  },
  {
   "cell_type": "code",
   "execution_count": null,
   "metadata": {
    "ExecuteTime": {
     "end_time": "2019-03-11T10:09:20.939182Z",
     "start_time": "2019-03-11T10:09:20.930978Z"
    }
   },
   "outputs": [],
   "source": [
    "def ema(user, typ, cols):\n",
    "    data = pd.read_json(dir_loc + 'EMA/response/' + typ + '/' + typ + '_' + user + '.json')\n",
    "    if 'null' in data.columns:\n",
    "        data = data.drop(columns='null')\n",
    "    if 'location' in data.columns:\n",
    "        data = data.drop(columns='location')\n",
    "    if data.shape[0] != 0:\n",
    "        data = data.dropna(subset=cols)\n",
    "    return data"
   ]
  },
  {
   "cell_type": "code",
   "execution_count": null,
   "metadata": {
    "ExecuteTime": {
     "end_time": "2019-03-11T10:09:43.905753Z",
     "start_time": "2019-03-11T10:09:43.872881Z"
    }
   },
   "outputs": [],
   "source": [
    "stress = ema(u, 'Stress', ['level'])\n",
    "mood2 = ema(u, 'Mood 2', ['how'])"
   ]
  },
  {
   "cell_type": "code",
   "execution_count": null,
   "metadata": {
    "ExecuteTime": {
     "end_time": "2019-03-11T10:09:52.075385Z",
     "start_time": "2019-03-11T10:09:52.061817Z"
    }
   },
   "outputs": [],
   "source": [
    "stress.head()"
   ]
  },
  {
   "cell_type": "code",
   "execution_count": null,
   "metadata": {
    "ExecuteTime": {
     "end_time": "2019-03-11T10:09:59.805139Z",
     "start_time": "2019-03-11T10:09:59.795826Z"
    }
   },
   "outputs": [],
   "source": [
    "mood2.head()"
   ]
  },
  {
   "cell_type": "code",
   "execution_count": null,
   "metadata": {
    "ExecuteTime": {
     "end_time": "2019-03-11T10:10:03.793800Z",
     "start_time": "2019-03-11T10:10:03.786704Z"
    }
   },
   "outputs": [],
   "source": [
    "definitions[3]"
   ]
  },
  {
   "cell_type": "code",
   "execution_count": null,
   "metadata": {
    "ExecuteTime": {
     "end_time": "2019-03-11T10:13:30.363755Z",
     "start_time": "2019-03-11T10:13:30.274329Z"
    }
   },
   "outputs": [],
   "source": [
    "if stress.shape[0] != 0:\n",
    "    stress['level'] = stress['level'].replace([1,2,3], 1)\n",
    "    stress['level'] = stress['level'].replace([4,5], 0)\n",
    "    stress.columns = ['STRESSED', 'resp_time']"
   ]
  },
  {
   "cell_type": "code",
   "execution_count": null,
   "metadata": {
    "ExecuteTime": {
     "end_time": "2019-03-11T10:13:32.004922Z",
     "start_time": "2019-03-11T10:13:31.989152Z"
    }
   },
   "outputs": [],
   "source": [
    "stress.head()"
   ]
  },
  {
   "cell_type": "code",
   "execution_count": null,
   "metadata": {
    "ExecuteTime": {
     "end_time": "2019-03-11T10:13:34.488602Z",
     "start_time": "2019-03-11T10:13:34.481688Z"
    }
   },
   "outputs": [],
   "source": [
    "definitions[17]"
   ]
  },
  {
   "cell_type": "code",
   "execution_count": null,
   "metadata": {
    "ExecuteTime": {
     "end_time": "2019-03-11T10:13:43.532529Z",
     "start_time": "2019-03-11T10:13:43.526056Z"
    }
   },
   "outputs": [],
   "source": [
    "if mood2.shape[0] != 0:\n",
    "    mood2 = mood2.replace([1, 3], 0)\n",
    "    mood2 = mood2.replace([2], 1)\n",
    "    mood2.columns = ['STRESSED', 'resp_time']"
   ]
  },
  {
   "cell_type": "code",
   "execution_count": null,
   "metadata": {
    "ExecuteTime": {
     "end_time": "2019-03-11T10:13:45.208615Z",
     "start_time": "2019-03-11T10:13:45.199097Z"
    }
   },
   "outputs": [],
   "source": [
    "mood2.head()"
   ]
  },
  {
   "cell_type": "code",
   "execution_count": null,
   "metadata": {
    "ExecuteTime": {
     "end_time": "2019-03-11T10:13:49.255962Z",
     "start_time": "2019-03-11T10:13:49.250842Z"
    }
   },
   "outputs": [],
   "source": [
    "labels = stress.append(mood2)"
   ]
  },
  {
   "cell_type": "code",
   "execution_count": null,
   "metadata": {
    "ExecuteTime": {
     "end_time": "2019-03-11T10:13:51.382769Z",
     "start_time": "2019-03-11T10:13:51.376462Z"
    }
   },
   "outputs": [],
   "source": [
    "labels = labels.sort_values(by='resp_time', ascending=True)"
   ]
  },
  {
   "cell_type": "code",
   "execution_count": null,
   "metadata": {
    "ExecuteTime": {
     "end_time": "2019-03-11T10:13:52.828822Z",
     "start_time": "2019-03-11T10:13:52.815451Z"
    }
   },
   "outputs": [],
   "source": [
    "labels.head()"
   ]
  },
  {
   "cell_type": "code",
   "execution_count": null,
   "metadata": {
    "ExecuteTime": {
     "end_time": "2019-03-11T10:17:13.478402Z",
     "start_time": "2019-03-11T10:17:13.465207Z"
    }
   },
   "outputs": [],
   "source": [
    "labels_sampled = labels.set_index('resp_time').resample('3h').max()"
   ]
  },
  {
   "cell_type": "code",
   "execution_count": null,
   "metadata": {
    "ExecuteTime": {
     "end_time": "2019-03-11T10:17:17.833934Z",
     "start_time": "2019-03-11T10:17:17.827960Z"
    }
   },
   "outputs": [],
   "source": [
    "labels_sampled = labels_sampled[labels_sampled.STRESSED.notnull()]"
   ]
  },
  {
   "cell_type": "code",
   "execution_count": null,
   "metadata": {
    "ExecuteTime": {
     "end_time": "2019-03-11T10:17:19.573229Z",
     "start_time": "2019-03-11T10:17:19.566357Z"
    }
   },
   "outputs": [],
   "source": [
    "labels_sampled.shape"
   ]
  },
  {
   "cell_type": "code",
   "execution_count": null,
   "metadata": {
    "ExecuteTime": {
     "end_time": "2019-03-11T10:17:21.035120Z",
     "start_time": "2019-03-11T10:17:21.022803Z"
    }
   },
   "outputs": [],
   "source": [
    "labels_sampled.head()"
   ]
  },
  {
   "cell_type": "markdown",
   "metadata": {},
   "source": [
    "# SENSING DATA ORGANIZE"
   ]
  },
  {
   "cell_type": "code",
   "execution_count": null,
   "metadata": {
    "ExecuteTime": {
     "end_time": "2019-03-11T10:17:48.539289Z",
     "start_time": "2019-03-11T10:17:45.559588Z"
    }
   },
   "outputs": [],
   "source": [
    "msno.bar(df)"
   ]
  },
  {
   "cell_type": "code",
   "execution_count": null,
   "metadata": {
    "ExecuteTime": {
     "end_time": "2019-02-26T18:43:17.500753Z",
     "start_time": "2019-02-26T18:43:16.455742Z"
    }
   },
   "outputs": [],
   "source": [
    "# df.drop(df.columns[[-2, -1]], axis=1, inplace=True)"
   ]
  },
  {
   "cell_type": "code",
   "execution_count": null,
   "metadata": {
    "ExecuteTime": {
     "end_time": "2019-02-27T07:46:41.975619Z",
     "start_time": "2019-02-27T07:46:41.248605Z"
    }
   },
   "outputs": [],
   "source": [
    "# df.drop(columns=['gps_accuracy',\n",
    "#                  'gps_provider',\n",
    "#                  'gps_network_type',\n",
    "#                  'gps_latitude',\n",
    "#                  'gps_longitude',\n",
    "#                  'gps_altitude',\n",
    "#                  'gps_bearing',\n",
    "#                  'gps_speed',\n",
    "#                  'gps_travelstate'], inplace=True)"
   ]
  },
  {
   "cell_type": "code",
   "execution_count": null,
   "metadata": {
    "ExecuteTime": {
     "end_time": "2019-03-11T10:23:52.894291Z",
     "start_time": "2019-03-11T10:23:51.921724Z"
    }
   },
   "outputs": [],
   "source": [
    "df = df.set_index('timestamp')"
   ]
  },
  {
   "cell_type": "code",
   "execution_count": null,
   "metadata": {
    "ExecuteTime": {
     "end_time": "2019-03-11T10:23:59.822116Z",
     "start_time": "2019-03-11T10:23:59.237928Z"
    }
   },
   "outputs": [],
   "source": [
    "df[['conversation',\n",
    "    'phone_in_dark', \n",
    "    'phone_charging', \n",
    "    'phone_locked']] = df[['conversation',\n",
    "                            'phone_in_dark', \n",
    "                            'phone_charging', \n",
    "                            'phone_locked']].fillna(value=0)"
   ]
  },
  {
   "cell_type": "code",
   "execution_count": null,
   "metadata": {
    "ExecuteTime": {
     "end_time": "2019-03-11T10:47:45.094174Z",
     "start_time": "2019-03-11T10:47:44.789750Z"
    }
   },
   "outputs": [],
   "source": [
    "# -1: Unknown, 0: Stationary, 1: Walking, 2: Running\n",
    "df['activity_inference'] = df['activity_inference'].replace([0,1,2,3], [0,1,2,-1])\n",
    "# -1: Unknown, 0: Silence, 1: Noise, 2: Voice\n",
    "df['audio_inference'] = df['audio_inference'].replace([0,1,2,3], [0,2,1,-1])"
   ]
  },
  {
   "cell_type": "code",
   "execution_count": null,
   "metadata": {
    "ExecuteTime": {
     "end_time": "2019-02-27T07:47:06.926394Z",
     "start_time": "2019-02-27T07:47:06.921130Z"
    }
   },
   "outputs": [],
   "source": [
    "# def ar_mode(array):\n",
    "#     return stats.mode(array)[0][0]\n",
    "\n",
    "# df_sampled = df.resample('15min').agg({'acitiviy_inference': ar_mode, \n",
    "#                                       'audio_inference': ar_mode,\n",
    "#                                       'conversation': ar_mode,\n",
    "#                                       'phone_in_dark': ar_mode, \n",
    "#                                       'phone_charging': ar_mode,\n",
    "#                                       'phone_locked': ar_mode,\n",
    "#                                       'bt_level_avg': np.max,\n",
    "#                                       'bt_level_std': np.max,\n",
    "#                                       'bt_total_devices_around': np.max,\n",
    "#                                       'bt_total_far': np.max,\n",
    "#                                       'bt_total_farther': np.max,\n",
    "#                                       'bt_total_near': np.max,\n",
    "#                                       'bt_total_nearer': np.max,\n",
    "#                                       'wifi_level_avg': np.max,\n",
    "#                                       'wifi_level_std': np.max,\n",
    "#                                       'wifi_total_devices_around': np.max,\n",
    "#                                       'wifi_total_far': np.max,\n",
    "#                                       'wifi_total_farther': np.max,\n",
    "#                                       'wifi_total_near': np.max,\n",
    "#                                       'wifi_total_nearer': np.max})"
   ]
  },
  {
   "cell_type": "code",
   "execution_count": null,
   "metadata": {
    "ExecuteTime": {
     "end_time": "2019-03-11T10:48:35.414821Z",
     "start_time": "2019-03-11T10:48:32.643165Z"
    }
   },
   "outputs": [],
   "source": [
    "df_rs = df.resample('15min').sum()\n",
    "\n",
    "msno.bar(df_rs)"
   ]
  },
  {
   "cell_type": "code",
   "execution_count": null,
   "metadata": {
    "ExecuteTime": {
     "end_time": "2019-03-11T10:48:50.631903Z",
     "start_time": "2019-03-11T10:48:50.626114Z"
    }
   },
   "outputs": [],
   "source": [
    "df_rs = df_rs.fillna(0)"
   ]
  },
  {
   "cell_type": "code",
   "execution_count": null,
   "metadata": {
    "ExecuteTime": {
     "end_time": "2019-02-27T13:20:30.380728Z",
     "start_time": "2019-02-27T13:20:30.369327Z"
    }
   },
   "outputs": [],
   "source": [
    "# df_rs['activity_inference'] = df_rs.activity_inference.astype('category')\n",
    "# df_rs['audio_inference'] = df_rs.activity_inference.astype('category')"
   ]
  },
  {
   "cell_type": "code",
   "execution_count": null,
   "metadata": {
    "ExecuteTime": {
     "end_time": "2019-03-11T10:49:02.346026Z",
     "start_time": "2019-03-11T10:49:02.336922Z"
    }
   },
   "outputs": [],
   "source": [
    "df_rs.dtypes"
   ]
  },
  {
   "cell_type": "code",
   "execution_count": null,
   "metadata": {
    "ExecuteTime": {
     "end_time": "2019-03-11T10:49:05.738618Z",
     "start_time": "2019-03-11T10:49:05.732124Z"
    }
   },
   "outputs": [],
   "source": [
    "df_rs.shape"
   ]
  },
  {
   "cell_type": "code",
   "execution_count": null,
   "metadata": {
    "ExecuteTime": {
     "end_time": "2019-03-11T10:49:20.519414Z",
     "start_time": "2019-03-11T10:49:20.471709Z"
    }
   },
   "outputs": [],
   "source": [
    "df_rs.head()"
   ]
  },
  {
   "cell_type": "code",
   "execution_count": null,
   "metadata": {
    "ExecuteTime": {
     "end_time": "2019-02-27T13:20:55.536328Z",
     "start_time": "2019-02-27T13:20:55.502216Z"
    }
   },
   "outputs": [],
   "source": [
    "pd.get_dummies(df_rs).shape"
   ]
  },
  {
   "cell_type": "code",
   "execution_count": null,
   "metadata": {
    "ExecuteTime": {
     "end_time": "2019-02-27T13:25:03.213541Z",
     "start_time": "2019-02-27T13:25:03.185594Z"
    }
   },
   "outputs": [],
   "source": [
    "df_rs_onehot = pd.get_dummies(df_rs)"
   ]
  },
  {
   "cell_type": "code",
   "execution_count": null,
   "metadata": {
    "ExecuteTime": {
     "end_time": "2019-02-27T13:25:10.379785Z",
     "start_time": "2019-02-27T13:25:09.327390Z"
    }
   },
   "outputs": [],
   "source": [
    "msno.bar(df_rs_onehot)"
   ]
  },
  {
   "cell_type": "code",
   "execution_count": null,
   "metadata": {
    "ExecuteTime": {
     "end_time": "2019-02-27T15:35:05.125020Z",
     "start_time": "2019-02-27T15:35:05.112906Z"
    }
   },
   "outputs": [],
   "source": [
    "labels_sampled.tail()"
   ]
  },
  {
   "cell_type": "code",
   "execution_count": null,
   "metadata": {
    "ExecuteTime": {
     "end_time": "2019-02-27T14:38:47.880295Z",
     "start_time": "2019-02-27T14:38:47.868867Z"
    }
   },
   "outputs": [],
   "source": [
    "a = df_rs_onehot[df_rs_onehot.index < labels_sampled.index[0]].values\n",
    "a"
   ]
  },
  {
   "cell_type": "code",
   "execution_count": null,
   "metadata": {
    "ExecuteTime": {
     "end_time": "2019-02-27T14:38:48.990744Z",
     "start_time": "2019-02-27T14:38:48.984982Z"
    }
   },
   "outputs": [],
   "source": [
    "b = labels_sampled.loc[labels_sampled.index[0]].values[0]\n",
    "b"
   ]
  },
  {
   "cell_type": "code",
   "execution_count": null,
   "metadata": {
    "ExecuteTime": {
     "end_time": "2019-02-27T14:38:57.324329Z",
     "start_time": "2019-02-27T14:38:57.316234Z"
    }
   },
   "outputs": [],
   "source": [
    "c = {'instance': a, 'label': b}\n",
    "c"
   ]
  },
  {
   "cell_type": "code",
   "execution_count": null,
   "metadata": {
    "ExecuteTime": {
     "end_time": "2019-02-27T14:21:18.218150Z",
     "start_time": "2019-02-27T14:21:18.211509Z"
    }
   },
   "outputs": [],
   "source": [
    "z = {}\n",
    "z"
   ]
  },
  {
   "cell_type": "code",
   "execution_count": null,
   "metadata": {
    "ExecuteTime": {
     "end_time": "2019-02-27T14:23:01.546675Z",
     "start_time": "2019-02-27T14:23:01.542253Z"
    }
   },
   "outputs": [],
   "source": [
    "z[2] = c"
   ]
  },
  {
   "cell_type": "code",
   "execution_count": null,
   "metadata": {
    "ExecuteTime": {
     "end_time": "2019-02-27T14:23:03.160229Z",
     "start_time": "2019-02-27T14:23:03.150632Z"
    }
   },
   "outputs": [],
   "source": [
    "z"
   ]
  },
  {
   "cell_type": "code",
   "execution_count": null,
   "metadata": {},
   "outputs": [],
   "source": []
  },
  {
   "cell_type": "code",
   "execution_count": null,
   "metadata": {
    "ExecuteTime": {
     "end_time": "2019-02-27T14:29:38.012573Z",
     "start_time": "2019-02-27T14:29:38.006356Z"
    }
   },
   "outputs": [],
   "source": [
    "np.save('test.npy', z) "
   ]
  },
  {
   "cell_type": "code",
   "execution_count": null,
   "metadata": {
    "ExecuteTime": {
     "end_time": "2019-02-27T14:30:15.151499Z",
     "start_time": "2019-02-27T14:30:15.144693Z"
    }
   },
   "outputs": [],
   "source": [
    "read_dictionary = np.load('test.npy').item()"
   ]
  },
  {
   "cell_type": "code",
   "execution_count": null,
   "metadata": {
    "ExecuteTime": {
     "end_time": "2019-02-27T14:30:17.091319Z",
     "start_time": "2019-02-27T14:30:17.082129Z"
    }
   },
   "outputs": [],
   "source": [
    "read_dictionary"
   ]
  },
  {
   "cell_type": "code",
   "execution_count": null,
   "metadata": {
    "ExecuteTime": {
     "end_time": "2019-02-27T14:44:25.752922Z",
     "start_time": "2019-02-27T14:44:25.743746Z"
    }
   },
   "outputs": [],
   "source": [
    "df_rs_onehot.index[0]"
   ]
  },
  {
   "cell_type": "code",
   "execution_count": null,
   "metadata": {
    "ExecuteTime": {
     "end_time": "2019-02-27T15:37:17.809230Z",
     "start_time": "2019-02-27T15:37:17.794311Z"
    }
   },
   "outputs": [],
   "source": [
    "def create_instances(df, labels):\n",
    "    starting_label_index = 0\n",
    "    \n",
    "    # Finds out the timestamp of first label that have data.\n",
    "    for i in range(len(labels)):\n",
    "        if labels.index[i] > df.index[i]:\n",
    "            starting_label_index = i\n",
    "            break\n",
    "        else:\n",
    "            continue\n",
    "        \n",
    "    all_data = {}\n",
    "    \n",
    "    # Creates first instance of dataset.\n",
    "    start = labels.index[starting_label_index]\n",
    "    instance = df[df.index <= start].values\n",
    "    output = labels.loc[start].values[0]\n",
    "    one_data = {'instance': instance, 'label': output}\n",
    "    all_data[0] = one_data\n",
    "    \n",
    "    # Counter that holds index of instances.\n",
    "    counter = 1\n",
    "    \n",
    "    # Loop to create instances.\n",
    "    for i in range(starting_label_index + 1, len(labels[starting_label_index:]), 1):\n",
    "        end = labels.index[i]\n",
    "        instance = df[(df.index > start) & (df.index <= end)].values\n",
    "        if instance.shape[0] == 0:\n",
    "            continue\n",
    "        output = labels.loc[end].values[0]\n",
    "        one_data = {'instance': instance, 'label': output}\n",
    "        all_data[counter] = one_data\n",
    "        start = end\n",
    "        counter += 1\n",
    "        \n",
    "    return all_data"
   ]
  },
  {
   "cell_type": "code",
   "execution_count": null,
   "metadata": {
    "ExecuteTime": {
     "end_time": "2019-02-27T15:37:19.506586Z",
     "start_time": "2019-02-27T15:37:19.420368Z"
    }
   },
   "outputs": [],
   "source": [
    "uza = create_instances(df_rs_onehot, labels_sampled)"
   ]
  },
  {
   "cell_type": "code",
   "execution_count": null,
   "metadata": {
    "ExecuteTime": {
     "end_time": "2019-02-27T15:38:21.889744Z",
     "start_time": "2019-02-27T15:38:21.882281Z"
    },
    "scrolled": false
   },
   "outputs": [],
   "source": [
    "uza[22]['instance'].shape"
   ]
  },
  {
   "cell_type": "code",
   "execution_count": null,
   "metadata": {
    "ExecuteTime": {
     "end_time": "2019-02-27T15:37:27.687607Z",
     "start_time": "2019-02-27T15:37:27.521511Z"
    },
    "scrolled": true
   },
   "outputs": [],
   "source": [
    "uza"
   ]
  },
  {
   "cell_type": "code",
   "execution_count": null,
   "metadata": {},
   "outputs": [],
   "source": []
  }
 ],
 "metadata": {
  "kernelspec": {
   "display_name": "Python 3",
   "language": "python",
   "name": "python3"
  },
  "language_info": {
   "codemirror_mode": {
    "name": "ipython",
    "version": 3
   },
   "file_extension": ".py",
   "mimetype": "text/x-python",
   "name": "python",
   "nbconvert_exporter": "python",
   "pygments_lexer": "ipython3",
   "version": "3.6.7"
  },
  "toc": {
   "base_numbering": 1,
   "nav_menu": {},
   "number_sections": true,
   "sideBar": true,
   "skip_h1_title": false,
   "title_cell": "Table of Contents",
   "title_sidebar": "Contents",
   "toc_cell": false,
   "toc_position": {},
   "toc_section_display": true,
   "toc_window_display": false
  },
  "varInspector": {
   "cols": {
    "lenName": 16,
    "lenType": 16,
    "lenVar": 40
   },
   "kernels_config": {
    "python": {
     "delete_cmd_postfix": "",
     "delete_cmd_prefix": "del ",
     "library": "var_list.py",
     "varRefreshCmd": "print(var_dic_list())"
    },
    "r": {
     "delete_cmd_postfix": ") ",
     "delete_cmd_prefix": "rm(",
     "library": "var_list.r",
     "varRefreshCmd": "cat(var_dic_list()) "
    }
   },
   "types_to_exclude": [
    "module",
    "function",
    "builtin_function_or_method",
    "instance",
    "_Feature"
   ],
   "window_display": false
  }
 },
 "nbformat": 4,
 "nbformat_minor": 2
}
